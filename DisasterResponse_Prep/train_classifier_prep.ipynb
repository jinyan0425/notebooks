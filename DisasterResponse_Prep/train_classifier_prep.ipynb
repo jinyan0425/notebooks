{
 "cells": [
  {
   "cell_type": "markdown",
   "metadata": {},
   "source": [
    "# ML Pipeline Preparation\n",
    "Follow the instructions below to help you create your ML pipeline.\n",
    "### 1. Import libraries and load data from database.\n",
    "- Import Python libraries\n",
    "- Load dataset from database with [`read_sql_table`](https://pandas.pydata.org/pandas-docs/stable/generated/pandas.read_sql_table.html)\n",
    "- Define feature and target variables X and Y"
   ]
  },
  {
   "cell_type": "code",
   "execution_count": 1,
   "metadata": {},
   "outputs": [],
   "source": [
    "# import libraries \n",
    "import pandas as pd\n",
    "import numpy as np\n",
    "import warnings\n",
    "warnings.filterwarnings('ignore')\n",
    "\n",
    "\n",
    "from sqlalchemy import create_engine"
   ]
  },
  {
   "cell_type": "code",
   "execution_count": 2,
   "metadata": {},
   "outputs": [
    {
     "name": "stderr",
     "output_type": "stream",
     "text": [
      "[nltk_data] Downloading package punkt to\n",
      "[nltk_data]     /Users/jinyanxiang/nltk_data...\n",
      "[nltk_data]   Package punkt is already up-to-date!\n",
      "[nltk_data] Downloading package wordnet to\n",
      "[nltk_data]     /Users/jinyanxiang/nltk_data...\n",
      "[nltk_data]   Package wordnet is already up-to-date!\n",
      "[nltk_data] Downloading package averaged_perceptron_tagger to\n",
      "[nltk_data]     /Users/jinyanxiang/nltk_data...\n",
      "[nltk_data]   Package averaged_perceptron_tagger is already up-to-\n",
      "[nltk_data]       date!\n"
     ]
    }
   ],
   "source": [
    "# import libraries nltk\n",
    "import nltk\n",
    "nltk.download('punkt')\n",
    "nltk.download('wordnet')\n",
    "nltk.download('averaged_perceptron_tagger')\n",
    "\n",
    "\n",
    "from nltk.tokenize import word_tokenize\n",
    "from nltk.stem import WordNetLemmatizer"
   ]
  },
  {
   "cell_type": "code",
   "execution_count": 3,
   "metadata": {},
   "outputs": [],
   "source": [
    "# import libraries sklearn\n",
    "\n",
    "from sklearn.feature_extraction.text import CountVectorizer, TfidfTransformer\n",
    "from sklearn.model_selection import train_test_split\n",
    "\n",
    "from sklearn.pipeline import Pipeline\n",
    "\n",
    "from sklearn.linear_model import LogisticRegression\n",
    "from sklearn.svm import SVC\n",
    "from sklearn.ensemble import RandomForestClassifier, AdaBoostClassifier\n",
    "from sklearn.multioutput import MultiOutputClassifier\n",
    "\n",
    "from sklearn.metrics import classification_report, log_loss, f1_score\n",
    "from sklearn.model_selection import GridSearchCV"
   ]
  },
  {
   "cell_type": "code",
   "execution_count": 4,
   "metadata": {},
   "outputs": [],
   "source": [
    "# load data from database\n",
    "engine = create_engine('sqlite:///DisasterResponse.db')\n",
    "df = pd.read_sql_table('MessageData', engine)\n",
    "\n",
    "\n",
    "X = df['message']\n",
    "y = df[df.columns[4:]]"
   ]
  },
  {
   "cell_type": "code",
   "execution_count": 5,
   "metadata": {},
   "outputs": [],
   "source": [
    "#check frequencies of each category\n",
    "FreqTb = pd.DataFrame()\n",
    "for col in y.columns:\n",
    "    tb = pd.DataFrame(y[col].value_counts())\n",
    "    \n",
    "    FreqTb = pd.concat([FreqTb, tb], axis = 1)"
   ]
  },
  {
   "cell_type": "code",
   "execution_count": 6,
   "metadata": {},
   "outputs": [
    {
     "data": {
      "text/html": [
       "<div>\n",
       "<style scoped>\n",
       "    .dataframe tbody tr th:only-of-type {\n",
       "        vertical-align: middle;\n",
       "    }\n",
       "\n",
       "    .dataframe tbody tr th {\n",
       "        vertical-align: top;\n",
       "    }\n",
       "\n",
       "    .dataframe thead th {\n",
       "        text-align: right;\n",
       "    }\n",
       "</style>\n",
       "<table border=\"1\" class=\"dataframe\">\n",
       "  <thead>\n",
       "    <tr style=\"text-align: right;\">\n",
       "      <th></th>\n",
       "      <th>related</th>\n",
       "      <th>request</th>\n",
       "      <th>offer</th>\n",
       "      <th>aid_related</th>\n",
       "      <th>medical_help</th>\n",
       "      <th>medical_products</th>\n",
       "      <th>search_and_rescue</th>\n",
       "      <th>security</th>\n",
       "      <th>military</th>\n",
       "      <th>child_alone</th>\n",
       "      <th>water</th>\n",
       "      <th>food</th>\n",
       "      <th>shelter</th>\n",
       "      <th>clothing</th>\n",
       "      <th>money</th>\n",
       "      <th>missing_people</th>\n",
       "      <th>refugees</th>\n",
       "      <th>death</th>\n",
       "    </tr>\n",
       "  </thead>\n",
       "  <tbody>\n",
       "    <tr>\n",
       "      <th>0</th>\n",
       "      <td>6116</td>\n",
       "      <td>21716.0</td>\n",
       "      <td>26062.0</td>\n",
       "      <td>15339.0</td>\n",
       "      <td>24099.0</td>\n",
       "      <td>24869.0</td>\n",
       "      <td>25456.0</td>\n",
       "      <td>25709.0</td>\n",
       "      <td>25321.0</td>\n",
       "      <td>26180.0</td>\n",
       "      <td>24511.0</td>\n",
       "      <td>23263.0</td>\n",
       "      <td>23872.0</td>\n",
       "      <td>25776.0</td>\n",
       "      <td>25577.0</td>\n",
       "      <td>25882.0</td>\n",
       "      <td>25306.0</td>\n",
       "      <td>24988.0</td>\n",
       "    </tr>\n",
       "    <tr>\n",
       "      <th>1</th>\n",
       "      <td>19876</td>\n",
       "      <td>4464.0</td>\n",
       "      <td>118.0</td>\n",
       "      <td>10841.0</td>\n",
       "      <td>2081.0</td>\n",
       "      <td>1311.0</td>\n",
       "      <td>724.0</td>\n",
       "      <td>471.0</td>\n",
       "      <td>859.0</td>\n",
       "      <td>NaN</td>\n",
       "      <td>1669.0</td>\n",
       "      <td>2917.0</td>\n",
       "      <td>2308.0</td>\n",
       "      <td>404.0</td>\n",
       "      <td>603.0</td>\n",
       "      <td>298.0</td>\n",
       "      <td>874.0</td>\n",
       "      <td>1192.0</td>\n",
       "    </tr>\n",
       "    <tr>\n",
       "      <th>2</th>\n",
       "      <td>188</td>\n",
       "      <td>NaN</td>\n",
       "      <td>NaN</td>\n",
       "      <td>NaN</td>\n",
       "      <td>NaN</td>\n",
       "      <td>NaN</td>\n",
       "      <td>NaN</td>\n",
       "      <td>NaN</td>\n",
       "      <td>NaN</td>\n",
       "      <td>NaN</td>\n",
       "      <td>NaN</td>\n",
       "      <td>NaN</td>\n",
       "      <td>NaN</td>\n",
       "      <td>NaN</td>\n",
       "      <td>NaN</td>\n",
       "      <td>NaN</td>\n",
       "      <td>NaN</td>\n",
       "      <td>NaN</td>\n",
       "    </tr>\n",
       "  </tbody>\n",
       "</table>\n",
       "</div>"
      ],
      "text/plain": [
       "   related  request    offer  aid_related  medical_help  medical_products  \\\n",
       "0     6116  21716.0  26062.0      15339.0       24099.0           24869.0   \n",
       "1    19876   4464.0    118.0      10841.0        2081.0            1311.0   \n",
       "2      188      NaN      NaN          NaN           NaN               NaN   \n",
       "\n",
       "   search_and_rescue  security  military  child_alone    water     food  \\\n",
       "0            25456.0   25709.0   25321.0      26180.0  24511.0  23263.0   \n",
       "1              724.0     471.0     859.0          NaN   1669.0   2917.0   \n",
       "2                NaN       NaN       NaN          NaN      NaN      NaN   \n",
       "\n",
       "   shelter  clothing    money  missing_people  refugees    death  \n",
       "0  23872.0   25776.0  25577.0         25882.0   25306.0  24988.0  \n",
       "1   2308.0     404.0    603.0           298.0     874.0   1192.0  \n",
       "2      NaN       NaN      NaN             NaN       NaN      NaN  "
      ]
     },
     "execution_count": 6,
     "metadata": {},
     "output_type": "execute_result"
    }
   ],
   "source": [
    "#frequency table part 1\n",
    "FreqTb[FreqTb.columns[:18]]"
   ]
  },
  {
   "cell_type": "code",
   "execution_count": 7,
   "metadata": {},
   "outputs": [
    {
     "data": {
      "text/html": [
       "<div>\n",
       "<style scoped>\n",
       "    .dataframe tbody tr th:only-of-type {\n",
       "        vertical-align: middle;\n",
       "    }\n",
       "\n",
       "    .dataframe tbody tr th {\n",
       "        vertical-align: top;\n",
       "    }\n",
       "\n",
       "    .dataframe thead th {\n",
       "        text-align: right;\n",
       "    }\n",
       "</style>\n",
       "<table border=\"1\" class=\"dataframe\">\n",
       "  <thead>\n",
       "    <tr style=\"text-align: right;\">\n",
       "      <th></th>\n",
       "      <th>infrastructure_related</th>\n",
       "      <th>transport</th>\n",
       "      <th>buildings</th>\n",
       "      <th>electricity</th>\n",
       "      <th>tools</th>\n",
       "      <th>hospitals</th>\n",
       "      <th>shops</th>\n",
       "      <th>aid_centers</th>\n",
       "      <th>other_infrastructure</th>\n",
       "      <th>weather_related</th>\n",
       "      <th>floods</th>\n",
       "      <th>storm</th>\n",
       "      <th>fire</th>\n",
       "      <th>earthquake</th>\n",
       "      <th>cold</th>\n",
       "      <th>other_weather</th>\n",
       "      <th>direct_report</th>\n",
       "    </tr>\n",
       "  </thead>\n",
       "  <tbody>\n",
       "    <tr>\n",
       "      <th>0</th>\n",
       "      <td>24475.0</td>\n",
       "      <td>24981.0</td>\n",
       "      <td>24849.0</td>\n",
       "      <td>25648.0</td>\n",
       "      <td>26021.0</td>\n",
       "      <td>25897.0</td>\n",
       "      <td>26060.0</td>\n",
       "      <td>25871.0</td>\n",
       "      <td>25029.0</td>\n",
       "      <td>18894.0</td>\n",
       "      <td>24031.0</td>\n",
       "      <td>23740.0</td>\n",
       "      <td>25898.0</td>\n",
       "      <td>23728.0</td>\n",
       "      <td>25652.0</td>\n",
       "      <td>24804.0</td>\n",
       "      <td>21116.0</td>\n",
       "    </tr>\n",
       "    <tr>\n",
       "      <th>1</th>\n",
       "      <td>1705.0</td>\n",
       "      <td>1199.0</td>\n",
       "      <td>1331.0</td>\n",
       "      <td>532.0</td>\n",
       "      <td>159.0</td>\n",
       "      <td>283.0</td>\n",
       "      <td>120.0</td>\n",
       "      <td>309.0</td>\n",
       "      <td>1151.0</td>\n",
       "      <td>7286.0</td>\n",
       "      <td>2149.0</td>\n",
       "      <td>2440.0</td>\n",
       "      <td>282.0</td>\n",
       "      <td>2452.0</td>\n",
       "      <td>528.0</td>\n",
       "      <td>1376.0</td>\n",
       "      <td>5064.0</td>\n",
       "    </tr>\n",
       "    <tr>\n",
       "      <th>2</th>\n",
       "      <td>NaN</td>\n",
       "      <td>NaN</td>\n",
       "      <td>NaN</td>\n",
       "      <td>NaN</td>\n",
       "      <td>NaN</td>\n",
       "      <td>NaN</td>\n",
       "      <td>NaN</td>\n",
       "      <td>NaN</td>\n",
       "      <td>NaN</td>\n",
       "      <td>NaN</td>\n",
       "      <td>NaN</td>\n",
       "      <td>NaN</td>\n",
       "      <td>NaN</td>\n",
       "      <td>NaN</td>\n",
       "      <td>NaN</td>\n",
       "      <td>NaN</td>\n",
       "      <td>NaN</td>\n",
       "    </tr>\n",
       "  </tbody>\n",
       "</table>\n",
       "</div>"
      ],
      "text/plain": [
       "   infrastructure_related  transport  buildings  electricity    tools  \\\n",
       "0                 24475.0    24981.0    24849.0      25648.0  26021.0   \n",
       "1                  1705.0     1199.0     1331.0        532.0    159.0   \n",
       "2                     NaN        NaN        NaN          NaN      NaN   \n",
       "\n",
       "   hospitals    shops  aid_centers  other_infrastructure  weather_related  \\\n",
       "0    25897.0  26060.0      25871.0               25029.0          18894.0   \n",
       "1      283.0    120.0        309.0                1151.0           7286.0   \n",
       "2        NaN      NaN          NaN                   NaN              NaN   \n",
       "\n",
       "    floods    storm     fire  earthquake     cold  other_weather  \\\n",
       "0  24031.0  23740.0  25898.0     23728.0  25652.0        24804.0   \n",
       "1   2149.0   2440.0    282.0      2452.0    528.0         1376.0   \n",
       "2      NaN      NaN      NaN         NaN      NaN            NaN   \n",
       "\n",
       "   direct_report  \n",
       "0        21116.0  \n",
       "1         5064.0  \n",
       "2            NaN  "
      ]
     },
     "execution_count": 7,
     "metadata": {},
     "output_type": "execute_result"
    }
   ],
   "source": [
    "#frequency table part 2\n",
    "FreqTb[FreqTb.columns[19:]]"
   ]
  },
  {
   "cell_type": "code",
   "execution_count": 8,
   "metadata": {},
   "outputs": [],
   "source": [
    "#based on the frequency table, most categories are highly skewed and one category \"child-alone\" only has 0 labels\n",
    "#drop the 188 label 2s which could possibly be record error (as other categories do not have 2 and the meaning of 2 is unclear)\n",
    "df = df[df.related != 2]"
   ]
  },
  {
   "cell_type": "code",
   "execution_count": 9,
   "metadata": {},
   "outputs": [],
   "source": [
    "#drop the class - child_alone, which has not relevant cases in the sample (i.e., all zeros)\n",
    "df.drop('child_alone', axis = 1, inplace = True)"
   ]
  },
  {
   "cell_type": "code",
   "execution_count": 10,
   "metadata": {},
   "outputs": [],
   "source": [
    "X = df['message']\n",
    "y = df[df.columns[4:]]"
   ]
  },
  {
   "cell_type": "code",
   "execution_count": 11,
   "metadata": {},
   "outputs": [
    {
     "data": {
      "text/plain": [
       "((25992,), (25992, 35))"
      ]
     },
     "execution_count": 11,
     "metadata": {},
     "output_type": "execute_result"
    }
   ],
   "source": [
    "X.shape, y.shape"
   ]
  },
  {
   "cell_type": "code",
   "execution_count": 213,
   "metadata": {},
   "outputs": [
    {
     "data": {
      "text/plain": [
       "1"
      ]
     },
     "execution_count": 213,
     "metadata": {},
     "output_type": "execute_result"
    }
   ],
   "source": [
    "X.ndim"
   ]
  },
  {
   "cell_type": "markdown",
   "metadata": {},
   "source": [
    "### 2. Write a tokenization function to process your text data"
   ]
  },
  {
   "cell_type": "code",
   "execution_count": 12,
   "metadata": {},
   "outputs": [],
   "source": [
    "def tokenize(text):\n",
    "    \n",
    "    token = word_tokenize(text)\n",
    "    lemmatizer = WordNetLemmatizer()\n",
    "    \n",
    "    cleaned_tokens = []\n",
    "    \n",
    "    for tok in token:\n",
    "        clean_tok = lemmatizer.lemmatize(tok).lower().strip()\n",
    "        cleaned_tokens.append(clean_tok)\n",
    "    \n",
    "    return cleaned_tokens"
   ]
  },
  {
   "cell_type": "markdown",
   "metadata": {},
   "source": [
    "### 3. Build a machine learning pipeline\n",
    "This machine pipeline should take in the `message` column as input and output classification results on the other 36 categories in the dataset. You may find the [MultiOutputClassifier](http://scikit-learn.org/stable/modules/generated/sklearn.multioutput.MultiOutputClassifier.html) helpful for predicting multiple target variables."
   ]
  },
  {
   "cell_type": "code",
   "execution_count": 13,
   "metadata": {},
   "outputs": [],
   "source": [
    "pipeline_LR = Pipeline([\n",
    "    ('vect', CountVectorizer(tokenizer = tokenize)),\n",
    "    ('tfidf', TfidfTransformer()),\n",
    "    \n",
    "    ('cfl', MultiOutputClassifier(LogisticRegression())) #use LogisticRegression as the classifier\n",
    "])"
   ]
  },
  {
   "cell_type": "markdown",
   "metadata": {},
   "source": [
    "### 4. Train pipeline\n",
    "- Split data into train and test sets\n",
    "- Train pipeline"
   ]
  },
  {
   "cell_type": "code",
   "execution_count": 14,
   "metadata": {},
   "outputs": [],
   "source": [
    "X_train, X_test, y_train, y_test = train_test_split(X, y, test_size = 0.2, random_state = 42)"
   ]
  },
  {
   "cell_type": "code",
   "execution_count": 15,
   "metadata": {},
   "outputs": [
    {
     "data": {
      "text/plain": [
       "((20793,), (20793, 35))"
      ]
     },
     "execution_count": 15,
     "metadata": {},
     "output_type": "execute_result"
    }
   ],
   "source": [
    "X_train.shape, y_train.shape"
   ]
  },
  {
   "cell_type": "code",
   "execution_count": 16,
   "metadata": {},
   "outputs": [
    {
     "data": {
      "text/plain": [
       "Pipeline(steps=[('vect',\n",
       "                 CountVectorizer(tokenizer=<function tokenize at 0x7fab88892430>)),\n",
       "                ('tfidf', TfidfTransformer()),\n",
       "                ('cfl', MultiOutputClassifier(estimator=LogisticRegression()))])"
      ]
     },
     "execution_count": 16,
     "metadata": {},
     "output_type": "execute_result"
    }
   ],
   "source": [
    "pipeline_LR.fit(X_train, y_train)"
   ]
  },
  {
   "cell_type": "markdown",
   "metadata": {},
   "source": [
    "### 5. Test your model\n",
    "Report the f1 score, precision and recall for each output category of the dataset. You can do this by iterating through the columns and calling sklearn's `classification_report` on each."
   ]
  },
  {
   "cell_type": "code",
   "execution_count": 17,
   "metadata": {},
   "outputs": [],
   "source": [
    "y_pred_lr = pipeline_LR.predict(X_test)"
   ]
  },
  {
   "cell_type": "code",
   "execution_count": 18,
   "metadata": {},
   "outputs": [],
   "source": [
    "y_true_lr = np.array(y_test.values)"
   ]
  },
  {
   "cell_type": "code",
   "execution_count": 19,
   "metadata": {},
   "outputs": [],
   "source": [
    "def ClassificationReport(y_true, y_pred, classifier):\n",
    "    print(\"the classification report of Multi-label classifiers with \", classifier, \" estimator\")\n",
    "    \n",
    "    print(\"\\n\")\n",
    "    \n",
    "    print(classification_report(y_true, y_pred,target_names = y.columns))"
   ]
  },
  {
   "cell_type": "code",
   "execution_count": 20,
   "metadata": {},
   "outputs": [
    {
     "name": "stdout",
     "output_type": "stream",
     "text": [
      "the classification report of Multi-label classifiers with  Logistic Regression  estimator\n",
      "\n",
      "\n",
      "                        precision    recall  f1-score   support\n",
      "\n",
      "               related       0.84      0.96      0.89      3969\n",
      "               request       0.85      0.58      0.69       917\n",
      "                 offer       0.00      0.00      0.00        28\n",
      "           aid_related       0.77      0.69      0.73      2199\n",
      "          medical_help       0.65      0.17      0.26       427\n",
      "      medical_products       0.78      0.22      0.34       246\n",
      "     search_and_rescue       0.80      0.06      0.11       138\n",
      "              security       0.00      0.00      0.00        89\n",
      "              military       0.64      0.10      0.17       160\n",
      "                 water       0.83      0.48      0.61       334\n",
      "                  food       0.88      0.59      0.70       630\n",
      "               shelter       0.87      0.43      0.57       500\n",
      "              clothing       0.90      0.28      0.43        68\n",
      "                 money       0.92      0.08      0.15       138\n",
      "        missing_people       0.00      0.00      0.00        64\n",
      "              refugees       0.83      0.06      0.11       177\n",
      "                 death       0.87      0.23      0.36       229\n",
      "             other_aid       0.61      0.12      0.20       708\n",
      "infrastructure_related       0.62      0.03      0.05       357\n",
      "             transport       0.79      0.11      0.20       236\n",
      "             buildings       0.86      0.22      0.35       292\n",
      "           electricity       0.91      0.10      0.18        98\n",
      "                 tools       0.00      0.00      0.00        38\n",
      "             hospitals       0.00      0.00      0.00        61\n",
      "                 shops       0.00      0.00      0.00        25\n",
      "           aid_centers       0.00      0.00      0.00        77\n",
      "  other_infrastructure       0.71      0.02      0.04       228\n",
      "       weather_related       0.86      0.66      0.75      1460\n",
      "                floods       0.91      0.40      0.55       421\n",
      "                 storm       0.75      0.41      0.53       486\n",
      "                  fire       0.00      0.00      0.00        49\n",
      "            earthquake       0.92      0.65      0.76       508\n",
      "                  cold       0.75      0.12      0.21        97\n",
      "         other_weather       0.50      0.02      0.04       285\n",
      "         direct_report       0.81      0.52      0.63      1036\n",
      "\n",
      "             micro avg       0.83      0.55      0.66     16775\n",
      "             macro avg       0.61      0.24      0.30     16775\n",
      "          weighted avg       0.78      0.55      0.60     16775\n",
      "           samples avg       0.67      0.49      0.52     16775\n",
      "\n"
     ]
    }
   ],
   "source": [
    "ClassificationReport(y_true_lr, y_pred_lr, \"Logistic Regression\")"
   ]
  },
  {
   "cell_type": "code",
   "execution_count": 21,
   "metadata": {},
   "outputs": [],
   "source": [
    "#based on the classifciation report, the performance of the algorithm varies by the predicated class \n",
    "#it performs worst when the message category has highly skewed data (e.g., offer, only 118 1s vs. 26062 0s in the original df)"
   ]
  },
  {
   "cell_type": "markdown",
   "metadata": {},
   "source": [
    "### 6. Improve your model\n",
    "Use grid search to find better parameters. "
   ]
  },
  {
   "cell_type": "code",
   "execution_count": 22,
   "metadata": {},
   "outputs": [
    {
     "data": {
      "text/plain": [
       "dict_keys(['memory', 'steps', 'verbose', 'vect', 'tfidf', 'cfl', 'vect__analyzer', 'vect__binary', 'vect__decode_error', 'vect__dtype', 'vect__encoding', 'vect__input', 'vect__lowercase', 'vect__max_df', 'vect__max_features', 'vect__min_df', 'vect__ngram_range', 'vect__preprocessor', 'vect__stop_words', 'vect__strip_accents', 'vect__token_pattern', 'vect__tokenizer', 'vect__vocabulary', 'tfidf__norm', 'tfidf__smooth_idf', 'tfidf__sublinear_tf', 'tfidf__use_idf', 'cfl__estimator__C', 'cfl__estimator__class_weight', 'cfl__estimator__dual', 'cfl__estimator__fit_intercept', 'cfl__estimator__intercept_scaling', 'cfl__estimator__l1_ratio', 'cfl__estimator__max_iter', 'cfl__estimator__multi_class', 'cfl__estimator__n_jobs', 'cfl__estimator__penalty', 'cfl__estimator__random_state', 'cfl__estimator__solver', 'cfl__estimator__tol', 'cfl__estimator__verbose', 'cfl__estimator__warm_start', 'cfl__estimator', 'cfl__n_jobs'])"
      ]
     },
     "execution_count": 22,
     "metadata": {},
     "output_type": "execute_result"
    }
   ],
   "source": [
    "#get the list of parameters that can be tuned\n",
    "pipeline_LR.get_params().keys()"
   ]
  },
  {
   "cell_type": "code",
   "execution_count": 23,
   "metadata": {},
   "outputs": [
    {
     "data": {
      "text/plain": [
       "GridSearchCV(estimator=Pipeline(steps=[('vect',\n",
       "                                        CountVectorizer(tokenizer=<function tokenize at 0x7fab88892430>)),\n",
       "                                       ('tfidf', TfidfTransformer()),\n",
       "                                       ('cfl',\n",
       "                                        MultiOutputClassifier(estimator=LogisticRegression()))]),\n",
       "             n_jobs=-1,\n",
       "             param_grid={'cfl__estimator__C': array([0. , 0.2, 0.4, 0.6, 0.8, 1. ]),\n",
       "                         'cfl__estimator__class_weight': ['balanced'],\n",
       "                         'cfl__estimator__max_iter': [100, 500, 1000],\n",
       "                         'cfl__estimator__n_jobs': [-1]},\n",
       "             scoring='f1_micro')"
      ]
     },
     "execution_count": 23,
     "metadata": {},
     "output_type": "execute_result"
    }
   ],
   "source": [
    "parameters = {\n",
    "    'cfl__estimator__C': np.arange(0,1.2,0.2), \n",
    "    #tune the regularization strength, default is 1\n",
    "    'cfl__estimator__class_weight':['balanced'], \n",
    "    #set the class_weight to be \"balanced\" as most message labels have unbalanced classes, \n",
    "    #default is None, which treated all classes equally\n",
    "    'cfl__estimator__max_iter': [100, 500, 1000],\n",
    "    #increase the max iterations, default is 100\n",
    "    'cfl__estimator__n_jobs':[-1]\n",
    "    #set n_jos to be -1 to use all processors\n",
    "    }\n",
    "\n",
    "\n",
    "cv = GridSearchCV(pipeline_LR, param_grid=parameters, scoring='f1_micro', n_jobs=-1)\n",
    "#set scoring to be f1_micro because the classes have unbalanced weights\n",
    "#set n_jobs to be -1 to use all processors\n",
    "\n",
    "cv.fit(X_train, y_train)"
   ]
  },
  {
   "cell_type": "code",
   "execution_count": 24,
   "metadata": {},
   "outputs": [
    {
     "data": {
      "text/plain": [
       "{'cfl__estimator__C': 1.0,\n",
       " 'cfl__estimator__class_weight': 'balanced',\n",
       " 'cfl__estimator__max_iter': 100,\n",
       " 'cfl__estimator__n_jobs': -1}"
      ]
     },
     "execution_count": 24,
     "metadata": {},
     "output_type": "execute_result"
    }
   ],
   "source": [
    "cv.best_params_"
   ]
  },
  {
   "cell_type": "code",
   "execution_count": 65,
   "metadata": {},
   "outputs": [
    {
     "data": {
      "text/plain": [
       "Pipeline(steps=[('vect',\n",
       "                 CountVectorizer(tokenizer=<function tokenize at 0x7fab88892430>)),\n",
       "                ('tfidf', TfidfTransformer()),\n",
       "                ('cfl',\n",
       "                 MultiOutputClassifier(estimator=LogisticRegression(class_weight='balanced',\n",
       "                                                                    n_jobs=-1)))])"
      ]
     },
     "execution_count": 65,
     "metadata": {},
     "output_type": "execute_result"
    }
   ],
   "source": [
    "cv.best_estimator_"
   ]
  },
  {
   "cell_type": "code",
   "execution_count": 142,
   "metadata": {},
   "outputs": [
    {
     "data": {
      "text/plain": [
       "0.6267770102436501"
      ]
     },
     "execution_count": 142,
     "metadata": {},
     "output_type": "execute_result"
    }
   ],
   "source": [
    "cv.best_score_"
   ]
  },
  {
   "cell_type": "markdown",
   "metadata": {},
   "source": [
    "### 7. Test your model\n",
    "Show the accuracy, precision, and recall of the tuned model.  \n",
    "\n",
    "Since this project focuses on code quality, process, and  pipelines, there is no minimum performance metric needed to pass. However, make sure to fine tune your models for accuracy, precision and recall to make your project stand out - especially for your portfolio!"
   ]
  },
  {
   "cell_type": "code",
   "execution_count": 26,
   "metadata": {},
   "outputs": [
    {
     "name": "stdout",
     "output_type": "stream",
     "text": [
      "the classification report of Multi-label classifiers with  Logistic Regression (balanced weight)  estimator\n",
      "\n",
      "\n",
      "                        precision    recall  f1-score   support\n",
      "\n",
      "               related       0.92      0.83      0.87      3969\n",
      "               request       0.63      0.81      0.71       917\n",
      "                 offer       0.08      0.21      0.12        28\n",
      "           aid_related       0.73      0.77      0.75      2199\n",
      "          medical_help       0.35      0.64      0.45       427\n",
      "      medical_products       0.30      0.64      0.41       246\n",
      "     search_and_rescue       0.14      0.36      0.20       138\n",
      "              security       0.11      0.33      0.17        89\n",
      "              military       0.35      0.74      0.47       160\n",
      "                 water       0.56      0.87      0.68       334\n",
      "                  food       0.70      0.83      0.76       630\n",
      "               shelter       0.56      0.82      0.67       500\n",
      "              clothing       0.31      0.68      0.42        68\n",
      "                 money       0.31      0.64      0.42       138\n",
      "        missing_people       0.19      0.38      0.26        64\n",
      "              refugees       0.25      0.57      0.35       177\n",
      "                 death       0.40      0.77      0.53       229\n",
      "             other_aid       0.34      0.62      0.44       708\n",
      "infrastructure_related       0.22      0.53      0.31       357\n",
      "             transport       0.22      0.47      0.30       236\n",
      "             buildings       0.42      0.70      0.52       292\n",
      "           electricity       0.34      0.61      0.44        98\n",
      "                 tools       0.12      0.16      0.14        38\n",
      "             hospitals       0.26      0.49      0.34        61\n",
      "                 shops       0.08      0.12      0.10        25\n",
      "           aid_centers       0.16      0.39      0.23        77\n",
      "  other_infrastructure       0.18      0.51      0.27       228\n",
      "       weather_related       0.76      0.80      0.78      1460\n",
      "                floods       0.53      0.72      0.61       421\n",
      "                 storm       0.63      0.83      0.72       486\n",
      "                  fire       0.34      0.41      0.37        49\n",
      "            earthquake       0.79      0.83      0.81       508\n",
      "                  cold       0.38      0.60      0.46        97\n",
      "         other_weather       0.25      0.56      0.35       285\n",
      "         direct_report       0.56      0.76      0.65      1036\n",
      "\n",
      "             micro avg       0.55      0.75      0.64     16775\n",
      "             macro avg       0.38      0.60      0.46     16775\n",
      "          weighted avg       0.63      0.75      0.67     16775\n",
      "           samples avg       0.43      0.56      0.45     16775\n",
      "\n"
     ]
    }
   ],
   "source": [
    "y_pred_lr_cv = cv.predict(X_test)\n",
    "y_true_lr_cv = y_test.values\n",
    "\n",
    "ClassificationReport(y_true_lr_cv, y_pred_lr_cv, \"Logistic Regression (balanced weight)\")"
   ]
  },
  {
   "cell_type": "code",
   "execution_count": 27,
   "metadata": {},
   "outputs": [],
   "source": [
    "#the performance of the model with balanced weights assigned to each category improve marginally\n",
    "#the improvement is most pronounced for message categories with severe skewness issues"
   ]
  },
  {
   "cell_type": "markdown",
   "metadata": {},
   "source": [
    "### 8. Try improving your model further. Here are a few ideas:\n",
    "* try other machine learning algorithms\n",
    "* add other features besides the TF-IDF"
   ]
  },
  {
   "cell_type": "markdown",
   "metadata": {},
   "source": [
    "#### 8.1. Improving the Cross-Validated Logistic Regresion"
   ]
  },
  {
   "cell_type": "code",
   "execution_count": 30,
   "metadata": {},
   "outputs": [],
   "source": [
    "#improvement 1: try different threshold for classification (default = 0.5)\n",
    "def ChangeThreshold(y_true, y_pred_proba, thresholds):\n",
    "\n",
    "    Threshold_Results = []\n",
    "    \n",
    "    for th in thresholds:\n",
    "        y_pred_new_threshold = np.zeros(y_true.shape)\n",
    "        \n",
    "        for i, predicts in enumerate(y_pred_proba):\n",
    "            y_pred_new_threshold_i = (predicts[:,1] >= th).astype(int)\n",
    "            y_pred_new_threshold[:,i] = y_pred_new_threshold_i \n",
    "        \n",
    "        f1_micro = f1_score(y_true, y_pred_new_threshold, average = 'micro')    \n",
    "        f1_weighted = f1_score(y_true, y_pred_new_threshold, average = 'weighted')\n",
    "\n",
    "        \n",
    "        Threshold_Results.append((\"threshold: {}\".format(th.round(2)), \n",
    "                                  \"f1_micro: {}\".format(f1_micro.round(3)),\n",
    "                                  \"f1_weighted: {}\".format(f1_weighted.round(3))\n",
    "                                 ))\n",
    "        \n",
    "    return Threshold_Results\n",
    "    "
   ]
  },
  {
   "cell_type": "code",
   "execution_count": 31,
   "metadata": {},
   "outputs": [
    {
     "data": {
      "text/plain": [
       "[('threshold: 0.2', 'f1_micro: 0.393', 'f1_weighted: 0.533'),\n",
       " ('threshold: 0.3', 'f1_micro: 0.502', 'f1_weighted: 0.601'),\n",
       " ('threshold: 0.4', 'f1_micro: 0.584', 'f1_weighted: 0.648'),\n",
       " ('threshold: 0.5', 'f1_micro: 0.635', 'f1_weighted: 0.673'),\n",
       " ('threshold: 0.6', 'f1_micro: 0.654', 'f1_weighted: 0.673'),\n",
       " ('threshold: 0.7', 'f1_micro: 0.638', 'f1_weighted: 0.642'),\n",
       " ('threshold: 0.8', 'f1_micro: 0.578', 'f1_weighted: 0.572')]"
      ]
     },
     "execution_count": 31,
     "metadata": {},
     "output_type": "execute_result"
    }
   ],
   "source": [
    "y_pred_proba = cv.predict_proba(X_test)\n",
    "\n",
    "#threshold to be tested\n",
    "thresholds = np.arange(0.2,0.8,0.1)\n",
    "\n",
    "ChangeThreshold(y_true_lr_cv, y_pred_proba, thresholds)"
   ]
  },
  {
   "cell_type": "code",
   "execution_count": 32,
   "metadata": {},
   "outputs": [],
   "source": [
    "#it suggests that slightly increase the threshold to 0.6 from 0.5 may slighly improve the f1_score"
   ]
  },
  {
   "cell_type": "markdown",
   "metadata": {},
   "source": [
    "#### 8.2. Try Random Forest Classifier"
   ]
  },
  {
   "cell_type": "code",
   "execution_count": 33,
   "metadata": {},
   "outputs": [],
   "source": [
    "#improvement 2a: try different classifier models (random forest classifier)\n",
    "pipeline_RF = Pipeline([\n",
    "    ('vect', CountVectorizer(tokenizer = tokenize)),\n",
    "    ('tfidf', TfidfTransformer()),\n",
    "    \n",
    "    ('cfl', MultiOutputClassifier(RandomForestClassifier(class_weight = 'balanced', n_jobs = -1))) #use LogisticRegression as the classifier\n",
    "])"
   ]
  },
  {
   "cell_type": "code",
   "execution_count": 34,
   "metadata": {},
   "outputs": [
    {
     "data": {
      "text/plain": [
       "Pipeline(steps=[('vect',\n",
       "                 CountVectorizer(tokenizer=<function tokenize at 0x7fab88892430>)),\n",
       "                ('tfidf', TfidfTransformer()),\n",
       "                ('cfl',\n",
       "                 MultiOutputClassifier(estimator=RandomForestClassifier(class_weight='balanced',\n",
       "                                                                        n_jobs=-1)))])"
      ]
     },
     "execution_count": 34,
     "metadata": {},
     "output_type": "execute_result"
    }
   ],
   "source": [
    "pipeline_RF.fit(X_train, y_train)"
   ]
  },
  {
   "cell_type": "code",
   "execution_count": 35,
   "metadata": {},
   "outputs": [],
   "source": [
    "y_true_rf = y_test.values\n",
    "y_pred_rf = pipeline_RF.predict(X_test)"
   ]
  },
  {
   "cell_type": "code",
   "execution_count": 36,
   "metadata": {},
   "outputs": [
    {
     "name": "stdout",
     "output_type": "stream",
     "text": [
      "the classification report of Multi-label classifiers with  Random Forest Classification  estimator\n",
      "\n",
      "\n",
      "                        precision    recall  f1-score   support\n",
      "\n",
      "               related       0.82      0.96      0.89      3969\n",
      "               request       0.90      0.44      0.60       917\n",
      "                 offer       0.00      0.00      0.00        28\n",
      "           aid_related       0.79      0.63      0.70      2199\n",
      "          medical_help       0.65      0.04      0.07       427\n",
      "      medical_products       0.92      0.05      0.09       246\n",
      "     search_and_rescue       0.50      0.01      0.01       138\n",
      "              security       0.00      0.00      0.00        89\n",
      "              military       0.00      0.00      0.00       160\n",
      "                 water       0.92      0.14      0.24       334\n",
      "                  food       0.93      0.27      0.42       630\n",
      "               shelter       0.93      0.13      0.23       500\n",
      "              clothing       1.00      0.04      0.08        68\n",
      "                 money       0.86      0.04      0.08       138\n",
      "        missing_people       0.00      0.00      0.00        64\n",
      "              refugees       0.00      0.00      0.00       177\n",
      "                 death       1.00      0.05      0.09       229\n",
      "             other_aid       0.75      0.03      0.05       708\n",
      "infrastructure_related       1.00      0.00      0.01       357\n",
      "             transport       1.00      0.00      0.01       236\n",
      "             buildings       0.71      0.02      0.03       292\n",
      "           electricity       1.00      0.01      0.02        98\n",
      "                 tools       0.00      0.00      0.00        38\n",
      "             hospitals       0.00      0.00      0.00        61\n",
      "                 shops       0.00      0.00      0.00        25\n",
      "           aid_centers       0.00      0.00      0.00        77\n",
      "  other_infrastructure       0.00      0.00      0.00       228\n",
      "       weather_related       0.86      0.57      0.69      1460\n",
      "                floods       0.98      0.13      0.22       421\n",
      "                 storm       0.74      0.22      0.34       486\n",
      "                  fire       0.00      0.00      0.00        49\n",
      "            earthquake       0.92      0.42      0.58       508\n",
      "                  cold       0.50      0.01      0.02        97\n",
      "         other_weather       0.50      0.00      0.01       285\n",
      "         direct_report       0.88      0.40      0.55      1036\n",
      "\n",
      "             micro avg       0.83      0.45      0.59     16775\n",
      "             macro avg       0.57      0.13      0.17     16775\n",
      "          weighted avg       0.79      0.45      0.50     16775\n",
      "           samples avg       0.69      0.43      0.49     16775\n",
      "\n"
     ]
    }
   ],
   "source": [
    "ClassificationReport(y_true_rf, y_pred_rf, \"Random Forest Classification\")"
   ]
  },
  {
   "cell_type": "markdown",
   "metadata": {},
   "source": [
    "#### 8.3. Try Support Vector Machine"
   ]
  },
  {
   "cell_type": "code",
   "execution_count": 37,
   "metadata": {},
   "outputs": [],
   "source": [
    "#improvement 3b: try different classifier models (SVM)\n",
    "pipeline_SVM = Pipeline([\n",
    "    ('vect', CountVectorizer(tokenizer = tokenize)),\n",
    "    ('tfidf', TfidfTransformer()),\n",
    "    \n",
    "    ('cfl', MultiOutputClassifier(SVC(class_weight = 'balanced'))) #use LogisticRegression as the classifier\n",
    "])"
   ]
  },
  {
   "cell_type": "code",
   "execution_count": 38,
   "metadata": {},
   "outputs": [
    {
     "data": {
      "text/plain": [
       "Pipeline(steps=[('vect',\n",
       "                 CountVectorizer(tokenizer=<function tokenize at 0x7fab88892430>)),\n",
       "                ('tfidf', TfidfTransformer()),\n",
       "                ('cfl',\n",
       "                 MultiOutputClassifier(estimator=SVC(class_weight='balanced')))])"
      ]
     },
     "execution_count": 38,
     "metadata": {},
     "output_type": "execute_result"
    }
   ],
   "source": [
    "pipeline_SVM.fit(X_train, y_train)"
   ]
  },
  {
   "cell_type": "code",
   "execution_count": 41,
   "metadata": {},
   "outputs": [],
   "source": [
    "y_true_svm = y_test.values\n",
    "y_pred_svm = pipeline_SVM.predict(X_test)"
   ]
  },
  {
   "cell_type": "code",
   "execution_count": 40,
   "metadata": {},
   "outputs": [
    {
     "name": "stdout",
     "output_type": "stream",
     "text": [
      "the classification report of Multi-label classifiers with  Support Vector Machine (Classifier)  estimator\n",
      "\n",
      "\n",
      "                        precision    recall  f1-score   support\n",
      "\n",
      "               related       0.89      0.89      0.89      3969\n",
      "               request       0.75      0.72      0.74       917\n",
      "                 offer       0.00      0.00      0.00        28\n",
      "           aid_related       0.76      0.75      0.75      2199\n",
      "          medical_help       0.60      0.37      0.45       427\n",
      "      medical_products       0.65      0.38      0.48       246\n",
      "     search_and_rescue       0.61      0.14      0.22       138\n",
      "              security       0.00      0.00      0.00        89\n",
      "              military       0.60      0.33      0.42       160\n",
      "                 water       0.71      0.77      0.74       334\n",
      "                  food       0.82      0.76      0.79       630\n",
      "               shelter       0.77      0.64      0.70       500\n",
      "              clothing       0.78      0.47      0.59        68\n",
      "                 money       0.64      0.28      0.39       138\n",
      "        missing_people       0.60      0.09      0.16        64\n",
      "              refugees       0.64      0.21      0.31       177\n",
      "                 death       0.70      0.50      0.58       229\n",
      "             other_aid       0.46      0.33      0.38       708\n",
      "infrastructure_related       0.44      0.10      0.16       357\n",
      "             transport       0.63      0.24      0.35       236\n",
      "             buildings       0.67      0.40      0.50       292\n",
      "           electricity       0.59      0.28      0.38        98\n",
      "                 tools       0.00      0.00      0.00        38\n",
      "             hospitals       0.50      0.02      0.03        61\n",
      "                 shops       1.00      0.04      0.08        25\n",
      "           aid_centers       1.00      0.01      0.03        77\n",
      "  other_infrastructure       0.31      0.06      0.10       228\n",
      "       weather_related       0.83      0.76      0.79      1460\n",
      "                floods       0.84      0.56      0.67       421\n",
      "                 storm       0.71      0.71      0.71       486\n",
      "                  fire       0.62      0.10      0.18        49\n",
      "            earthquake       0.88      0.76      0.82       508\n",
      "                  cold       0.68      0.37      0.48        97\n",
      "         other_weather       0.56      0.15      0.24       285\n",
      "         direct_report       0.67      0.67      0.67      1036\n",
      "\n",
      "             micro avg       0.78      0.64      0.70     16775\n",
      "             macro avg       0.63      0.37      0.42     16775\n",
      "          weighted avg       0.74      0.64      0.67     16775\n",
      "           samples avg       0.59      0.52      0.51     16775\n",
      "\n"
     ]
    }
   ],
   "source": [
    "ClassificationReport(y_true_svm, y_pred_svm, \"Support Vector Machine (Classifier)\")"
   ]
  },
  {
   "cell_type": "markdown",
   "metadata": {},
   "source": [
    "#### 8.4 Boost the Logistic Regression model using Adaptive Boosting"
   ]
  },
  {
   "cell_type": "code",
   "execution_count": 53,
   "metadata": {},
   "outputs": [],
   "source": [
    "#use adaptive boosting method to improve the performance of logistic regression\n",
    "#use AdaBoostClassifier to boost the logistic regression \n",
    "pipeline_boosted = Pipeline([\n",
    "    ('vect', CountVectorizer(tokenizer = tokenize)),\n",
    "    ('tfidf', TfidfTransformer()),\n",
    "    ('cfl', MultiOutputClassifier(AdaBoostClassifier(base_estimator = LogisticRegression(class_weight = 'balanced', n_jobs = -1))))\n",
    "])"
   ]
  },
  {
   "cell_type": "code",
   "execution_count": 54,
   "metadata": {},
   "outputs": [
    {
     "data": {
      "text/plain": [
       "Pipeline(steps=[('vect',\n",
       "                 CountVectorizer(tokenizer=<function tokenize at 0x7fab88892430>)),\n",
       "                ('tfidf', TfidfTransformer()),\n",
       "                ('cfl',\n",
       "                 MultiOutputClassifier(estimator=AdaBoostClassifier(base_estimator=LogisticRegression(class_weight='balanced',\n",
       "                                                                                                      n_jobs=-1))))])"
      ]
     },
     "execution_count": 54,
     "metadata": {},
     "output_type": "execute_result"
    }
   ],
   "source": [
    "pipeline_boosted.fit(X_train, y_train)"
   ]
  },
  {
   "cell_type": "code",
   "execution_count": 55,
   "metadata": {},
   "outputs": [],
   "source": [
    "y_true_boosted = y_test.values\n",
    "y_pred_boosted = pipeline_boosted.predict(X_test)"
   ]
  },
  {
   "cell_type": "code",
   "execution_count": 57,
   "metadata": {},
   "outputs": [
    {
     "name": "stdout",
     "output_type": "stream",
     "text": [
      "the classification report of Multi-label classifiers with  Logistic Regression (balanced weight)  estimator\n",
      "\n",
      "\n",
      "                        precision    recall  f1-score   support\n",
      "\n",
      "               related       0.85      0.79      0.82      3969\n",
      "               request       0.56      0.73      0.64       917\n",
      "                 offer       0.03      0.39      0.06        28\n",
      "           aid_related       0.65      0.70      0.67      2199\n",
      "          medical_help       0.18      0.73      0.28       427\n",
      "      medical_products       0.15      0.71      0.25       246\n",
      "     search_and_rescue       0.08      0.59      0.13       138\n",
      "              security       0.03      0.58      0.06        89\n",
      "              military       0.10      0.86      0.18       160\n",
      "                 water       0.39      0.84      0.53       334\n",
      "                  food       0.53      0.72      0.61       630\n",
      "               shelter       0.35      0.71      0.47       500\n",
      "              clothing       0.12      0.69      0.21        68\n",
      "                 money       0.17      0.67      0.27       138\n",
      "        missing_people       0.07      0.47      0.12        64\n",
      "              refugees       0.09      0.72      0.16       177\n",
      "                 death       0.16      0.76      0.26       229\n",
      "             other_aid       0.29      0.57      0.39       708\n",
      "infrastructure_related       0.12      0.70      0.21       357\n",
      "             transport       0.08      0.61      0.15       236\n",
      "             buildings       0.24      0.71      0.35       292\n",
      "           electricity       0.15      0.67      0.24        98\n",
      "                 tools       0.02      0.53      0.05        38\n",
      "             hospitals       0.08      0.77      0.14        61\n",
      "                 shops       0.01      0.28      0.02        25\n",
      "           aid_centers       0.05      0.64      0.09        77\n",
      "  other_infrastructure       0.09      0.73      0.16       228\n",
      "       weather_related       0.48      0.79      0.60      1460\n",
      "                floods       0.20      0.77      0.32       421\n",
      "                 storm       0.41      0.78      0.54       486\n",
      "                  fire       0.05      0.51      0.10        49\n",
      "            earthquake       0.79      0.68      0.73       508\n",
      "                  cold       0.08      0.69      0.14        97\n",
      "         other_weather       0.11      0.75      0.19       285\n",
      "         direct_report       0.53      0.68      0.60      1036\n",
      "\n",
      "             micro avg       0.29      0.73      0.41     16775\n",
      "             macro avg       0.24      0.67      0.31     16775\n",
      "          weighted avg       0.51      0.73      0.56     16775\n",
      "           samples avg       0.30      0.55      0.34     16775\n",
      "\n"
     ]
    }
   ],
   "source": [
    "ClassificationReport(y_true_boosted, y_pred_boosted, \"Logistic Regression (balanced weight)\")"
   ]
  },
  {
   "cell_type": "markdown",
   "metadata": {},
   "source": [
    "### 9. Export your model as a pickle file"
   ]
  },
  {
   "cell_type": "code",
   "execution_count": null,
   "metadata": {},
   "outputs": [],
   "source": [
    "#Conclusion: in terms of performance (metrics: F1-score), \n",
    "#SVM peforms best, followed by logistic regression, and random forest performs worst. \n",
    "#However, since SVM only performs slightly better on micro F1-score than logistic regression \n",
    "#but has higher computational cost, \n",
    "#I would adopt the cross-validated logistic regression as the optimized classifier."
   ]
  },
  {
   "cell_type": "code",
   "execution_count": 131,
   "metadata": {},
   "outputs": [],
   "source": [
    "threshold_report = ChangeThreshold(y_true_lr_cv, y_pred_proba,thresholds)"
   ]
  },
  {
   "cell_type": "code",
   "execution_count": 215,
   "metadata": {},
   "outputs": [],
   "source": [
    "import pickle\n",
    "\n",
    "with open('classifier.pkl', 'wb') as file:\n",
    "    pickle.dump(cv, file)"
   ]
  },
  {
   "cell_type": "code",
   "execution_count": 185,
   "metadata": {},
   "outputs": [],
   "source": [
    "#check = pickle.load(open('MLclassifier.pkl','rb'))\n",
    "#check"
   ]
  },
  {
   "cell_type": "markdown",
   "metadata": {},
   "source": [
    "### 10. Use this notebook to complete `train.py`\n",
    "Use the template file attached in the Resources folder to write a script that runs the steps above to create a database and export a model based on a new dataset specified by the user."
   ]
  }
 ],
 "metadata": {
  "kernelspec": {
   "display_name": "Python 3",
   "language": "python",
   "name": "python3"
  },
  "language_info": {
   "codemirror_mode": {
    "name": "ipython",
    "version": 3
   },
   "file_extension": ".py",
   "mimetype": "text/x-python",
   "name": "python",
   "nbconvert_exporter": "python",
   "pygments_lexer": "ipython3",
   "version": "3.8.8"
  }
 },
 "nbformat": 4,
 "nbformat_minor": 4
}
